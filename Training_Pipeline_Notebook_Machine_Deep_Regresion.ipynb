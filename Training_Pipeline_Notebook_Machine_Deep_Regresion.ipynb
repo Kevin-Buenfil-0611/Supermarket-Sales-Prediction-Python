{
 "cells": [
  {
   "cell_type": "code",
   "execution_count": 1,
   "metadata": {},
   "outputs": [
    {
     "name": "stdout",
     "output_type": "stream",
     "text": [
      "Fitting 5 folds for each of 108 candidates, totalling 540 fits\n",
      "Best parameters: {'max_depth': None, 'min_samples_leaf': 1, 'min_samples_split': 2, 'n_estimators': 300}\n",
      "Root Mean Squared Error: 1.5306822902728832\n",
      "R-squared Score: 0.9999639867190481\n",
      "Training pipeline completed. Best model saved.\n",
      "\n",
      "Top 10 most important features:\n",
      "          feature  importance\n",
      "7          Tax 5%    0.999872\n",
      "5      Unit price    0.000047\n",
      "13           Time    0.000014\n",
      "9             Day    0.000011\n",
      "12      DayOfWeek    0.000010\n",
      "4    Product line    0.000009\n",
      "8         Payment    0.000008\n",
      "10          Month    0.000006\n",
      "2   Customer type    0.000005\n",
      "1            City    0.000004\n"
     ]
    }
   ],
   "source": [
    "# Training Pipeline Notebook\n",
    "\n",
    "import pandas as pd\n",
    "import numpy as np\n",
    "from sklearn.ensemble import RandomForestRegressor\n",
    "from sklearn.model_selection import GridSearchCV\n",
    "from sklearn.metrics import mean_squared_error, r2_score\n",
    "import joblib\n",
    "\n",
    "# Cargar los datos procesados\n",
    "X_train = pd.read_csv('X_train_scaled.csv')\n",
    "X_test = pd.read_csv('X_test_scaled.csv')\n",
    "y_train = pd.read_csv('y_train.csv').values.ravel()\n",
    "y_test = pd.read_csv('y_test.csv').values.ravel()\n",
    "\n",
    "# Inicializar el modelo\n",
    "rf_model = RandomForestRegressor(random_state=42)\n",
    "\n",
    "# Definir los hiperparámetros a ajustar\n",
    "param_grid = {\n",
    "    'n_estimators': [100, 200, 300],\n",
    "    'max_depth': [None, 10, 20, 30],\n",
    "    'min_samples_split': [2, 5, 10],\n",
    "    'min_samples_leaf': [1, 2, 4]\n",
    "}\n",
    "\n",
    "# Realizar búsqueda en cuadrícula con validación cruzada\n",
    "grid_search = GridSearchCV(estimator=rf_model, param_grid=param_grid, \n",
    "                            cv=5, n_jobs=-1, verbose=2, scoring='neg_mean_squared_error')\n",
    "grid_search.fit(X_train, y_train)\n",
    "\n",
    "# Obtener el mejor modelo\n",
    "best_model = grid_search.best_estimator_\n",
    "\n",
    "# Hacer predicciones en el conjunto de prueba\n",
    "y_pred = best_model.predict(X_test)\n",
    "\n",
    "# Calcular métricas de rendimiento\n",
    "mse = mean_squared_error(y_test, y_pred)\n",
    "rmse = np.sqrt(mse)\n",
    "r2 = r2_score(y_test, y_pred)\n",
    "\n",
    "print(f\"Mejores parámetros: {grid_search.best_params_}\")\n",
    "print(f\"Error Cuadrático Medio de la Raíz: {rmse}\")\n",
    "print(f\"Puntuación R-cuadrado: {r2}\")\n",
    "\n",
    "# Guardar el mejor modelo\n",
    "joblib.dump(best_model, 'best_rf_model.joblib')\n",
    "\n",
    "print(\"Pipeline de entrenamiento completado. Mejor modelo guardado.\")\n",
    "\n",
    "# Análisis de importancia de características\n",
    "feature_importance = pd.DataFrame({\n",
    "    'característica': X_train.columns,\n",
    "    'importancia': best_model.feature_importances_\n",
    "}).sort_values('importancia', ascending=False)\n",
    "\n",
    "print(\"\\nLas 10 características más importantes:\")\n",
    "print(feature_importance.head(10))"
   ]
  }
 ],
 "metadata": {
  "kernelspec": {
   "display_name": "Python 3",
   "language": "python",
   "name": "python3"
  },
  "language_info": {
   "codemirror_mode": {
    "name": "ipython",
    "version": 3
   },
   "file_extension": ".py",
   "mimetype": "text/x-python",
   "name": "python",
   "nbconvert_exporter": "python",
   "pygments_lexer": "ipython3",
   "version": "3.12.2"
  }
 },
 "nbformat": 4,
 "nbformat_minor": 2
}
